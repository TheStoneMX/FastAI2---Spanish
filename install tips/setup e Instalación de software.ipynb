{
 "cells": [
  {
   "cell_type": "markdown",
   "metadata": {},
   "source": [
    "### Este cuaderno describió cómo instalar PyTorch para GPU o CPU."
   ]
  },
  {
   "cell_type": "markdown",
   "metadata": {},
   "source": [
    "## Instalando Python y PyTorch \n",
    "\n",
    "Es posible instalar y ejecutar Python / PyTorch completamente desde tu computadora, sin la necesidad de Google CoLab. Ejecutar PyTorch localmente requiere cierta configuración e instalación de software. Si no te sientes cómodo con la instalación del software, simplemente use Google CoLab. Estas instrucciones le muestran cómo instalar PyTorch y Fastai2 para CPU y GPU. Muchos de los ejemplos en forum lograrán una mejora considerable en el rendimiento de una GPU.\n",
    "\n",
    "El primer paso es instalar Python 3.7. Recomiendo usar la versión Miniconda (Anaconda) de Python, ya que incluye muchos de los paquetes relacionados con la ciencia de datos que necesita esta clase. Anaconda es directamente compatible con Windows, Mac y Linux. Miniconda es el conjunto mínimo de características de la extensa distribución de Anaconda Python. Descarga Miniconda de la siguiente URL \n",
    "\n",
    "* [Miniconda](https://docs.conda.io/en/latest/miniconda.html)\n",
    "\n",
    "Primero, instalemos Jupyter, que es el editor que usará en conjunto a Microsoft Code.\n",
    "\n",
    "conda install -y jupyter\n",
    "\n",
    "De hecho, lanzaremos Jupyter más tarde.\n",
    "\n",
    "Debes asegurarte de que PyTorch tenga la versión de Python con la que sea compatible. La mejor manera de lograr esto es con un entorno Anaconda. Cada entorno que cree puede tener su propia versión de Python, controladores y bibliotecas de Python. Sugiero que cree un entorno para contener la instancia de Python para esta clase. Use el siguiente comando para crear su entorno. Estoy llamando a la antorcha del medio ambiente , puedes nombrar el tuyo como quieras.\n",
    "\n",
    "conda create --name torch python=3.7\n",
    "\n",
    "Para ingresar a este entorno, debe utilizar el siguiente comando:\n",
    "\n",
    "conda activate torch\n",
    "\n",
    "Por ahora, agreguemos soporte de Jupyter a su nuevo entorno.\n",
    "\n",
    "conda install nb_conda\n",
    "\n",
    "Ahora instalaremos PyTorch. Haremos uso de conda para esta instalación. Las siguientes dos secciones describen cómo instalar PyTorch para una CPU o GPU. Para usar GPU, debe tener una [compatible NVIDIA GPU](https://developer.nvidia.com/cuda-gpus).\n"
   ]
  },
  {
   "cell_type": "markdown",
   "metadata": {},
   "source": [
    "## Instale PyTorch solo para CPU\n",
    "\n",
    "El siguiente comando instala PyTorch para soporte de CPU. Incluso si tiene una GPU, no se utilizará.\n",
    "\n",
    "**conda install pytorch -c pytorch**"
   ]
  },
  {
   "cell_type": "markdown",
   "metadata": {},
   "source": [
    "##  Instale PyTorch para GPU y CPU\n",
    "\n",
    "El siguiente comando instala PyTorch para el soporte de GPU. Todas las instalaciones complejas de controladores deben manejarse con este comando.\n",
    "\n",
    "**conda install pytorch cudatoolkit -c pytor**\n"
   ]
  },
  {
   "cell_type": "markdown",
   "metadata": {},
   "source": [
    "## Instalar bibliotecas adicionales para ML\n",
    "\n",
    "Hay varias bibliotecas adicionales que necesitará para este curso. Este comando los instalará. Asegúrese de estar todavía en su entorno de pytorch .\n",
    "\n",
    "conda env update --file bibliotecas.yml\n",
    "\n",
    "El archivo bibliotecas.yml se encuentra en el directorio raíz de este repositorio de GitHub."
   ]
  },
  {
   "cell_type": "markdown",
   "metadata": {},
   "source": [
    "## Registre su entorno \n",
    "\n",
    "El siguiente comando registra su entorno pytorch . Nuevamente, asegúrese de \"activar conda\" su nuevo entorno de pytorch .\n",
    "\n",
    "python -m ipykernel install --user --name pytorch --display-name \"Python 3.7 (pytorch)\"\n"
   ]
  },
  {
   "cell_type": "markdown",
   "metadata": {},
   "source": [
    "## Probar su entorno\n",
    "\n",
    "Ahora puede iniciar el cuaderno Jupyter. Usa el siguiente comando.\n",
    "\n",
    "jupyter notebook\n",
    "\n",
    "Ahora puede ejecutar el siguiente código para verificar que tiene las versiones esperadas."
   ]
  },
  {
   "cell_type": "code",
   "execution_count": 2,
   "metadata": {},
   "outputs": [
    {
     "name": "stdout",
     "output_type": "stream",
     "text": [
      "PyTorch Version: 1.5.0\n",
      "\n",
      "Python 3.7.7 (default, May  7 2020, 21:25:33) \n",
      "[GCC 7.3.0]\n",
      "Pandas 1.0.5\n",
      "Scikit-Learn 0.23.1\n",
      "GPU esta disponible\n",
      "TITAN RTX\n"
     ]
    }
   ],
   "source": [
    "# Que version de Pytorch you have?\n",
    "import sys\n",
    "\n",
    "import torch\n",
    "import pandas as pd\n",
    "import sklearn as sk\n",
    "\n",
    "print(f\"PyTorch Version: {torch.__version__}\")\n",
    "print()\n",
    "print(f\"Python {sys.version}\")\n",
    "print(f\"Pandas {pd.__version__}\")\n",
    "print(f\"Scikit-Learn {sk.__version__}\")\n",
    "print(\"GPU esta\", \"disponible\" if torch.cuda.is_available() else \"NO esta disponible\")\n",
    "print(torch.cuda.get_device_name(0))"
   ]
  },
  {
   "cell_type": "markdown",
   "metadata": {},
   "source": [
    "## Bienvenido a fastai v2\n",
    "\n",
    "Usted puede obtener todas las dependencias necesarias, simplemente instalando fastai v1: conda install -c fastai -c pytorch fastai. O bien, puede instalar automáticamente las dependencias en un nuevo entorno:\n",
    "\n",
    "~~~\n",
    "git clone https://github.com/fastai/fastai2\n",
    " cd fastai2\n",
    "conda env create -f environment.yml\n",
    "fuente activa fastai2\n",
    "~~~\n",
    "\n",
    "A continuación, puede instalar v2 fastai con pip: pip install fastai2.\n",
    "\n",
    "O puede usar una instalación editable (que es probablemente el mejor enfoque en este momento, ya que fastai v2 está en desarrollo):\n",
    "\n",
    "git clone https://github.com/fastai/fastai2\n",
    "cd fastai2\n",
    "pip install -e \".[dev]\"\n",
    "\n",
    "También debe usar una instalación editable de [fastcore](https://github.com/fastai/fastcore) para ir con él.\n",
    "\n",
    "fuente [fastai v2](https://github.com/fastai/fastai2)\n"
   ]
  },
  {
   "cell_type": "code",
   "execution_count": null,
   "metadata": {},
   "outputs": [],
   "source": []
  }
 ],
 "metadata": {
  "kernelspec": {
   "display_name": "Python 3.7 (pytorch)",
   "language": "python",
   "name": "pytorch"
  },
  "language_info": {
   "codemirror_mode": {
    "name": "ipython",
    "version": 3
   },
   "file_extension": ".py",
   "mimetype": "text/x-python",
   "name": "python",
   "nbconvert_exporter": "python",
   "pygments_lexer": "ipython3",
   "version": "3.7.7"
  }
 },
 "nbformat": 4,
 "nbformat_minor": 4
}
